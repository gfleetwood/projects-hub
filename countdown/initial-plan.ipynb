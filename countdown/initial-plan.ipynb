{
 "cells": [
  {
   "cell_type": "markdown",
   "metadata": {},
   "source": [
    "Solving Countdown Number's Round With Genetic Algorithms.\n",
    "\n",
    "http://lethain.com/genetic-algorithms-cool-name-damn-simple/"
   ]
  },
  {
   "cell_type": "code",
   "execution_count": 4,
   "metadata": {},
   "outputs": [
    {
     "name": "stdout",
     "output_type": "stream",
     "text": [
      "[82, 5, 1, 6, 3, 4]\n",
      "558\n"
     ]
    }
   ],
   "source": [
    "#setup\n",
    "\n",
    "import numpy as np\n",
    "import random\n",
    "import matplotlib.pyplot as plt\n",
    "%matplotlib inline\n",
    "\n",
    "target = np.random.randint(100, 999)\n",
    "num_big_nums = np.random.randint(1, 4)\n",
    "nums = list(np.random.choice(range(10, 100), size = num_big_nums, replace = False)) + \\\n",
    "list(np.random.choice(range(1, 10), size = 6-num_big_nums, replace = False))\n",
    "ops = ['+', '-', '/', '*']\n",
    "print(nums)\n",
    "print(target)"
   ]
  },
  {
   "cell_type": "code",
   "execution_count": 5,
   "metadata": {},
   "outputs": [],
   "source": [
    "#genetic functions\n",
    "\n",
    "def create_individual(nums, ops):\n",
    "    pop_member = [1 for i in range(11)]\n",
    "    pop_member[::2] = [str(num) for num in np.random.choice(nums, size = 6, replace = False)]\n",
    "    pop_member[1::2] = [random.sample(ops, 1)[0] for i in range(5)]\n",
    "    return pop_member\n",
    "\n",
    "def create_population(nums, ops, size = 10):\n",
    "    return [create_individual(nums, ops) for i in range(size)]\n",
    "\n",
    "def result(individual):\n",
    "    return eval(''.join([str(i) for i in individual]))\n",
    "\n",
    "def fitness_individual(individual, target):\n",
    "    target_produced = result(individual)\n",
    "    digits = [int(i) for i in individual if i.isdigit()]\n",
    "    \n",
    "    #A decimal or negative number gets a fitness score of 10**6 \n",
    "    if (np.abs(target_produced - int(target_produced)) > 0) or (target_produced) < 0:\n",
    "        return 10**6  \n",
    "    #So does an individual with repeated digits\n",
    "    elif len(set(digits)) < len(digits):\n",
    "        return 10**6            \n",
    "    else:\n",
    "        return np.abs(int(target_produced) - target)  \n",
    "    \n",
    "def fitness_population(pop, target):\n",
    "    return np.mean([fitness_individual(ind, target) for ind in pop])\n",
    "\n",
    "def evolution(pop, nums, ops, target, retain = 0.5, random_select = 0.05, mutate = 0.01):\n",
    "    grades = [(fitness_individual(ind, target), ind) for ind in pop]\n",
    "    grades = [x[1] for x in sorted(grades, reverse = False, key = lambda x: x[0])]\n",
    "    parents = grades[:int(len(grades)*retain)]\n",
    "    best_individual = grades[0]\n",
    "    \n",
    "    for ind in grades[int(len(grades)*retain):]:\n",
    "        if random_select > random.random():\n",
    "            parents.append(ind)\n",
    "            \n",
    "    for individual in parents:\n",
    "        if mutate > random.random():\n",
    "            pos_to_mutate = np.random.randint(0, 11)\n",
    "            if pos_to_mutate%2==1:\n",
    "                individual[pos_to_mutate] = random.sample(ops, 1)[0]\n",
    "\n",
    "    parents_length = len(parents)\n",
    "    desired_length = len(pop) - parents_length\n",
    "    children = []\n",
    "    while len(children) < desired_length:\n",
    "        male, female = np.random.choice(range(parents_length), size = 2, replace = False)\n",
    "        parent_1 = parents[male]\n",
    "        parent_2 = parents[female]\n",
    "        child = parent_1[:6] + parent_2[6:]\n",
    "        children.append(child)\n",
    "    parents.extend(children)\n",
    "    return parents, (best_individual, result(best_individual))"
   ]
  },
  {
   "cell_type": "code",
   "execution_count": 8,
   "metadata": {},
   "outputs": [
    {
     "name": "stdout",
     "output_type": "stream",
     "text": [
      "Best Population Fitness: 5.0\n",
      "1st Trial In Which It Occured: 2074\n",
      "Best Individual: ['6', '*', '82', '+', '1', '+', '3', '*', '5', '*', '4']\n",
      "Result: 553\n",
      "Target: 558\n",
      "Wall time: 20.3 s\n"
     ]
    }
   ],
   "source": [
    "%%time\n",
    "\n",
    "def run_count_down(nums, ops, target, times = 5):\n",
    "    pop = create_population(nums, ops)\n",
    "    fitness_history = [fitness_population(pop, target)]\n",
    "    for i in range(times):\n",
    "        pop, best_individual = evolution(pop, nums, ops, target)\n",
    "        fitness_history.append(fitness_population(pop, target))\n",
    "    return fitness_history, best_individual\n",
    "\n",
    "trial_history, best_individual = run_count_down(nums, ops, target, times = 10000)\n",
    "\n",
    "print('Best Population Fitness: {}'.format(min(trial_history)))\n",
    "print('1st Trial In Which It Occured: {}'.format(trial_history.index(min(trial_history))+1))\n",
    "print('Best Individual: {0}\\nResult: {1}\\nTarget: {2}'.format(best_individual[0], best_individual[1], target))"
   ]
  },
  {
   "cell_type": "code",
   "execution_count": null,
   "metadata": {
    "collapsed": true
   },
   "outputs": [],
   "source": []
  }
 ],
 "metadata": {
  "anaconda-cloud": {},
  "kernelspec": {
   "display_name": "Python 3",
   "language": "python",
   "name": "python3"
  },
  "language_info": {
   "codemirror_mode": {
    "name": "ipython",
    "version": 3
   },
   "file_extension": ".py",
   "mimetype": "text/x-python",
   "name": "python",
   "nbconvert_exporter": "python",
   "pygments_lexer": "ipython3",
   "version": "3.6.8"
  },
  "varInspector": {
   "cols": {
    "lenName": 16,
    "lenType": 16,
    "lenVar": 40
   },
   "kernels_config": {
    "python": {
     "delete_cmd_postfix": "",
     "delete_cmd_prefix": "del ",
     "library": "var_list.py",
     "varRefreshCmd": "print(var_dic_list())"
    },
    "r": {
     "delete_cmd_postfix": ") ",
     "delete_cmd_prefix": "rm(",
     "library": "var_list.r",
     "varRefreshCmd": "cat(var_dic_list()) "
    }
   },
   "types_to_exclude": [
    "module",
    "function",
    "builtin_function_or_method",
    "instance",
    "_Feature"
   ],
   "window_display": false
  }
 },
 "nbformat": 4,
 "nbformat_minor": 1
}
