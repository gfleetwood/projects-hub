{
 "cells": [
  {
   "cell_type": "markdown",
   "metadata": {},
   "source": [
    "https://www.gutenberg.org/ebooks/search/?query=philosophy&go=Go"
   ]
  },
  {
   "cell_type": "code",
   "execution_count": 5,
   "metadata": {
    "collapsed": true
   },
   "outputs": [],
   "source": [
    "import glob\n",
    "import markovify\n",
    "\n",
    "def read_files(files):\n",
    "    file_list = []\n",
    "    for file in files:\n",
    "        with open(file) as f:\n",
    "            file_list.append(f.read())\n",
    "    return file_list\n",
    "\n",
    "files = glob.glob('./corpora_processed/*.txt')\n",
    "corpora_files = read_files(files)\n",
    "markov_models = [markovify.Text(corpus) for corpus in corpora_files]\n",
    "full_philosophy_model = markovify.combine(markov_models)"
   ]
  },
  {
   "cell_type": "code",
   "execution_count": 7,
   "metadata": {
    "collapsed": false
   },
   "outputs": [
    {
     "name": "stdout",
     "output_type": "stream",
     "text": [
      "This analysis I shall consider his deeds come to be absolutely necessary.\n",
      "And in examining the character of the universe.\n",
      "The evidence that they are to the number 216.\n"
     ]
    }
   ],
   "source": [
    "for i in range(3):\n",
    "    print(full_philosophy_model.make_short_sentence(140))"
   ]
  },
  {
   "cell_type": "code",
   "execution_count": 18,
   "metadata": {
    "collapsed": false
   },
   "outputs": [],
   "source": [
    "import pickle\n",
    "with open('philosophy_bot.pkl', 'wb') as f:\n",
    "    pickle.dump(full_philosophy_model, f, protocol = 2)"
   ]
  },
  {
   "cell_type": "code",
   "execution_count": 16,
   "metadata": {
    "collapsed": false
   },
   "outputs": [
    {
     "data": {
      "text/plain": [
       "'Not wickedness therefore, but semi-wickedness flourishes in states,--a remnant of justice and censuring the other.'"
      ]
     },
     "execution_count": 16,
     "metadata": {},
     "output_type": "execute_result"
    }
   ],
   "source": [
    "with open('test.pkl', 'rb') as f:\n",
    "    t1 = pickle.load(f)\n",
    "t1.make_short_sentence(140)"
   ]
  },
  {
   "cell_type": "code",
   "execution_count": null,
   "metadata": {
    "collapsed": true
   },
   "outputs": [],
   "source": []
  }
 ],
 "metadata": {
  "anaconda-cloud": {},
  "kernelspec": {
   "display_name": "Python [Root]",
   "language": "python",
   "name": "Python [Root]"
  },
  "language_info": {
   "codemirror_mode": {
    "name": "ipython",
    "version": 3
   },
   "file_extension": ".py",
   "mimetype": "text/x-python",
   "name": "python",
   "nbconvert_exporter": "python",
   "pygments_lexer": "ipython3",
   "version": "3.5.2"
  }
 },
 "nbformat": 4,
 "nbformat_minor": 0
}
